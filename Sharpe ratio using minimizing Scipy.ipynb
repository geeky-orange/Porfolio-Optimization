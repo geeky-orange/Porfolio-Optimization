{
 "cells": [
  {
   "cell_type": "code",
   "execution_count": 6,
   "id": "uniform-addiction",
   "metadata": {},
   "outputs": [],
   "source": [
    "import pandas as pd\n",
    "import yfinance as yf\n",
    "import datetime as dt"
   ]
  },
  {
   "cell_type": "code",
   "execution_count": 7,
   "id": "automotive-wisconsin",
   "metadata": {},
   "outputs": [],
   "source": [
    "\n",
    "\"\"\"\n",
    "etf_categorize.py contains methods for categorizing ETFs based on Segment\n",
    "\"\"\"\n",
    "\n",
    "\n",
    "#1\n",
    "def get_commodities(data):\n",
    "    input_1 = \"Commodities\"\n",
    "\n",
    "    series = data[data['Segment'].str.contains(input_1)]\n",
    "    commodities = list(series['Ticker'])\n",
    "    return commodities\n",
    "\n",
    "\n",
    "#2\n",
    "def get_global_non_US_equities(data):\n",
    "    input_1 = \"Equity\"\n",
    "\n",
    "    contains = [\"Developed\", \"China\", \"Australia\", \"Russia\", \"South Korea\", \"Switzerland\", \"Taiwan\", \"U.K.\", \"Global\"]\n",
    "    not_contain = \": U.S. -\"\n",
    "    dev_markets = \"Equity: Developed Markets Ex-U.S. - Total Market\"\n",
    "    # contains Equity and one of the string from \"contains\" array and does not contain \": U.S. -\"\n",
    "    series = data[data['Segment'].str.contains(input_1) & data['Segment'].str.contains('|'.join(contains)) & ~data['Segment'].str.contains(not_contain) & ~data['Segment'].str.contains(dev_markets)]\n",
    "    global_equities = list(series['Ticker'])\n",
    "\n",
    "    return global_equities\n",
    "\n",
    "\n",
    "#3\n",
    "def get_emerging_markets(data):\n",
    "    input_1 = \"Equity\"\n",
    "    input_2 = \"Emerging Markets\"\n",
    "    series = data[data['Segment'].str.contains(input_1) & data['Segment'].str.contains(input_2)]\n",
    "    emerging_market_equities = list(series['Ticker'])\n",
    "\n",
    "    return emerging_market_equities\n",
    "\n",
    "\n",
    "#4\n",
    "def get_large_cap(data):\n",
    "    input_1 = \"Equity\"\n",
    "    input_2 = \"Large Cap\"\n",
    "\n",
    "    series = data[data['Segment'].str.contains(input_1) & data['Segment'].str.contains(input_2)]\n",
    "    stbonds = list(series['Ticker'])\n",
    "\n",
    "    return stbonds\n",
    "\n",
    "\n",
    "#5\n",
    "def get_small_mid(data):\n",
    "    input_1 = \"Equity\"\n",
    "    input_2 = \"Small Cap\"\n",
    "    input_3 = \"Mid Cap\"\n",
    "    series = data[(data['Segment'].str.contains(input_1) & data['Segment'].str.contains(input_2)) | (data['Segment'].str.contains(input_1) & data['Segment'].str.contains(input_3))]\n",
    "    real_estate_equities = list(series['Ticker'])\n",
    "\n",
    "    return real_estate_equities\n",
    "\n",
    "#6\n",
    "def get_total_market_equities(data):\n",
    "    input_1 = \"Equity\"\n",
    "    input_2 = \": U.S. - Total Market\"\n",
    "    # , \": U.S. Aerospace & Defense\", \": U.S. Banks\", \": U.S. Basic Materials\", \": U.S. Biotech\", \": U.S. Consumer\", \": U.S. Energy\", \": U.S. Financial\", \": U.S. Health\", \": U.S. Homebuilding\", \": U.S. Industrials\", \": U.S. Internet\", \": U.S. Technology\", \": U.S. Telecommunications\", \": U.S. Transportation\", \": U.S. Utilities\",\n",
    "    series = data[data['Segment'].str.contains(input_1) & data['Segment'].str.contains(input_2)]\n",
    "    stbonds = list(series['Ticker'])\n",
    "\n",
    "    return stbonds\n",
    "\n",
    "#7\n",
    "def get_real_estate(data):\n",
    "    input_1 = \"Equity\"\n",
    "    input_2 = \"Real Estate\"\n",
    "    input_3 = \"REITs\"\n",
    "    series = data[(data['Segment'].str.contains(input_1) & data['Segment'].str.contains(input_2)) | (data['Segment'].str.contains(input_1) & data['Segment'].str.contains(input_3))]\n",
    "    real_estate_equities = list(series['Ticker'])\n",
    "\n",
    "    return real_estate_equities\n",
    "\n",
    "\n",
    "#8\n",
    "def get_total_bonds(data):\n",
    "    input_1 = \"Fixed Income\"\n",
    "    input_2 = \"Global\"\n",
    "    input_3 = \"U.S. - Broad Market\"\n",
    "\n",
    "    series = data[(data['Segment'].str.contains(input_1) & data['Segment'].str.contains(input_2)) | (data['Segment'].str.contains(input_1) & data['Segment'].str.contains(input_3))]\n",
    "    stbonds = list(series['Ticker'])\n",
    "\n",
    "    return stbonds\n",
    "\n",
    "\n",
    "#9\n",
    "def get_corporate_bonds(data):\n",
    "    input_1 = \"Fixed Income\"\n",
    "    input_2 = \"Corporate\"\n",
    "\n",
    "    series = data[data['Segment'].str.contains(input_1) & data['Segment'].str.contains(input_2)]\n",
    "    stbonds = list(series['Ticker'])\n",
    "\n",
    "    return stbonds\n",
    "\n",
    "\n",
    "#10\n",
    "def get_government_bonds(data):\n",
    "    input_1 = \"Fixed Income\"\n",
    "    input_2 = \"Government\"\n",
    "\n",
    "    series = data[data['Segment'].str.contains(input_1) & data['Segment'].str.contains(input_2)]\n",
    "    stbonds = list(series['Ticker'])\n",
    "\n",
    "    return stbonds\n",
    "\n",
    "#\n",
    "# 11\n",
    "def get_int_dev_markets(data):\n",
    "    input_1 = \"Equity: Developed Markets Ex-U.S. - Total Market\"\n",
    "\n",
    "    series = data[data['Segment'].str.contains(input_1)]\n",
    "    stbonds = list(series['Ticker'])\n",
    "\n",
    "    return stbonds\n",
    "\n",
    "\n"
   ]
  },
  {
   "cell_type": "code",
   "execution_count": 8,
   "id": "minimal-telling",
   "metadata": {},
   "outputs": [],
   "source": [
    "def screen_etfs(dataset):\n",
    "\n",
    "    # Dataset is now stored in a Pandas Dataframe\n",
    "    accepted_grading = ['A', 'B']\n",
    "    # return_volatility_grades = ['A+', 'A', 'A-', 'B+', 'B', 'B-']\n",
    "    invalidIndex = dataset[(dataset['Expense Ratio'] == '--') | (dataset['AUM'] == '--')].index\n",
    "    dataset.drop(invalidIndex, inplace=True)\n",
    "    # eliminate dollar sign\n",
    "    dataset['AUM'] = dataset['AUM'].str.replace('$', '')\n",
    "\n",
    "    # convert to number with float\n",
    "    for ind in dataset.index:\n",
    "        if dataset['AUM'][ind][-1] == 'B':\n",
    "            dataset['AUM'][ind] = dataset['AUM'][ind][:-1]\n",
    "            dataset['AUM'][ind] = float(dataset['AUM'][ind][:-1]) * 1000000000\n",
    "\n",
    "        elif dataset['AUM'][ind][-1] == 'M':\n",
    "            dataset['AUM'][ind] = dataset['AUM'][ind][:-1]\n",
    "            dataset['AUM'][ind] = float(dataset['AUM'][ind][:-1]) * 1000000\n",
    "\n",
    "        elif dataset['AUM'][ind][-1] == 'K':\n",
    "            dataset['AUM'][ind] = dataset['AUM'][ind][:-1]\n",
    "            dataset['AUM'][ind] = float(dataset['AUM'][ind][:-1]) * 1000\n",
    "\n",
    "    # remove inverse and leveraged\n",
    "    for ind in dataset.index:\n",
    "        if ('Inverse' in dataset['Segment'][ind]) or ('Leveraged' in dataset['Segment'][ind]):\n",
    "            dataset = dataset.drop([ind])\n",
    "\n",
    "    dataset['Expense Ratio'] = dataset['Expense Ratio'].str.replace('%', '')\n",
    "    dataset['Expense Ratio'] = dataset['Expense Ratio'].astype(float)\n",
    "\n",
    "    # rules\n",
    "    AUM_test = dataset['AUM'].astype(float) >= 1000000000\n",
    "    ER_test = dataset['Expense Ratio'] <= 0.75\n",
    "    grade_test = dataset['Grade'].isin(accepted_grading)\n",
    "    print(len(dataset))\n",
    "    dataset = dataset[grade_test]\n",
    "    dataset = dataset[AUM_test]\n",
    "    dataset = dataset[ER_test]\n",
    "\n",
    "    return dataset"
   ]
  },
  {
   "cell_type": "code",
   "execution_count": 9,
   "id": "differential-movement",
   "metadata": {},
   "outputs": [
    {
     "name": "stderr",
     "output_type": "stream",
     "text": [
      "C:\\Users\\Admin\\anaconda3\\envs\\nlp_course\\lib\\site-packages\\ipykernel_launcher.py:9: FutureWarning: The default value of regex will change from True to False in a future version. In addition, single character regular expressions will*not* be treated as literal strings when regex=True.\n",
      "  if __name__ == '__main__':\n"
     ]
    },
    {
     "name": "stdout",
     "output_type": "stream",
     "text": [
      "1010\n",
      "     Ticker                                               Name  \\\n",
      "660     FEX           First Trust Large Cap Core AlphaDEX Fund   \n",
      "661    SDOG                      ALPS Sector Dividend Dogs ETF   \n",
      "662     BWX  SPDR Bloomberg Barclays International Treasury...   \n",
      "663    SPLB        SPDR Portfolio Long Term Corporate Bond ETF   \n",
      "664    PNQI                        Invesco NASDAQ Internet ETF   \n",
      "...     ...                                                ...   \n",
      "1124    QQQ                                  Invesco QQQ Trust   \n",
      "1125    VOO                               Vanguard S&P 500 ETF   \n",
      "1126    VTI                    Vanguard Total Stock Market ETF   \n",
      "1127    IVV                           iShares Core S&P 500 ETF   \n",
      "1128    SPY                             SPDR S&P 500 ETF Trust   \n",
      "\n",
      "                                                Segment       Issuer  \\\n",
      "660                            Equity: U.S. - Large Cap  First Trust   \n",
      "661                            Equity: U.S. - Large Cap         SS&C   \n",
      "662   Fixed Income: Global Ex-U.S. - Government, Non...          NaN   \n",
      "663   Fixed Income: U.S. - Corporate, Broad-based In...          NaN   \n",
      "664                               Equity: U.S. Internet      Invesco   \n",
      "...                                                 ...          ...   \n",
      "1124                           Equity: U.S. - Large Cap      Invesco   \n",
      "1125                           Equity: U.S. - Large Cap     Vanguard   \n",
      "1126                        Equity: U.S. - Total Market     Vanguard   \n",
      "1127                           Equity: U.S. - Large Cap    Blackrock   \n",
      "1128                           Equity: U.S. - Large Cap          NaN   \n",
      "\n",
      "      Expense Ratio             AUM Grade  \n",
      "660            0.59    1000000000.0     B  \n",
      "661            0.40    1000000000.0     A  \n",
      "662            0.35    1000000000.0     B  \n",
      "663            0.07    1000000000.0     A  \n",
      "664            0.60    1000000000.0     B  \n",
      "...             ...             ...   ...  \n",
      "1124           0.20  152300000000.0     A  \n",
      "1125           0.03  176700000000.0     A  \n",
      "1126           0.03  200000000000.0     A  \n",
      "1127           0.03  236800000000.0     A  \n",
      "1128           0.09  329000000000.0     A  \n",
      "\n",
      "[346 rows x 7 columns]\n"
     ]
    },
    {
     "name": "stderr",
     "output_type": "stream",
     "text": [
      "C:\\Users\\Admin\\anaconda3\\envs\\nlp_course\\lib\\site-packages\\ipykernel_launcher.py:39: UserWarning: Boolean Series key will be reindexed to match DataFrame index.\n",
      "C:\\Users\\Admin\\anaconda3\\envs\\nlp_course\\lib\\site-packages\\ipykernel_launcher.py:40: UserWarning: Boolean Series key will be reindexed to match DataFrame index.\n"
     ]
    },
    {
     "data": {
      "text/plain": [
       "['BWX',\n",
       " 'JMST',\n",
       " 'IGOV',\n",
       " 'USFR',\n",
       " 'CMF',\n",
       " 'ITM',\n",
       " 'FMB',\n",
       " 'SPIP',\n",
       " 'PZA',\n",
       " 'BAB',\n",
       " 'SPTI',\n",
       " 'VWOB',\n",
       " 'SPMB',\n",
       " 'SPTL',\n",
       " 'STIP',\n",
       " 'SPTS',\n",
       " 'TFI',\n",
       " 'SCHR',\n",
       " 'SUB',\n",
       " 'SHM',\n",
       " 'VGIT',\n",
       " 'SCHO',\n",
       " 'VGSH',\n",
       " 'VTIP',\n",
       " 'VTEB',\n",
       " 'IEI',\n",
       " 'BIL',\n",
       " 'VMBS',\n",
       " 'SCHP',\n",
       " 'IEF',\n",
       " 'SHV',\n",
       " 'TLT',\n",
       " 'EMB',\n",
       " 'SHY',\n",
       " 'MUB',\n",
       " 'MBB',\n",
       " 'TIP']"
      ]
     },
     "execution_count": 9,
     "metadata": {},
     "output_type": "execute_result"
    }
   ],
   "source": [
    "dataset = pd.read_csv('NewETFdata.csv', header=0,\n",
    "                          encoding='unicode_escape')\n",
    "\n",
    "data = screen_etfs(dataset= dataset)\n",
    "\n",
    "print(data)\n",
    "\n",
    "new_data = get_government_bonds(data)\n",
    "\n",
    "new_data"
   ]
  },
  {
   "cell_type": "code",
   "execution_count": 11,
   "id": "acoustic-marker",
   "metadata": {},
   "outputs": [],
   "source": [
    "def get_data(ETF_list, number_of_years = 5):\n",
    "    # Setting the date of today\n",
    "    Current_Date = dt.datetime.today()\n",
    "\n",
    "    # Setting the historical date (starting date)\n",
    "    Historical_Date = dt.datetime.now() - dt.timedelta(days=number_of_years * 365)\n",
    "    # You can set the date here, say like \"2020-07-23\"\n",
    "    startdate = Historical_Date.strftime(\"%Y-%m-%d\")\n",
    "    enddate = Current_Date.strftime(\"%Y-%m-%d\")\n",
    "\n",
    "    print(\"Printing ETF list: {}\".format(ETF_list))\n",
    "    dflist = []\n",
    "    for etf in ETF_list:\n",
    "        try:\n",
    "            df = yf.download(etf, start=startdate, end=enddate)\n",
    "            df = df[['Adj Close']]\n",
    "            df.rename(columns={'Adj Close': '{} Adj Close'.format(str(etf))}, inplace=True)\n",
    "            dflist.append(df)\n",
    "        except:\n",
    "            print(\"Problem with yfinance download.\")\n",
    "\n",
    "    finaldf = pd.concat(dflist, axis=1)\n",
    "    finaldf = finaldf.dropna(axis='columns')\n",
    "    print(\"Final df is:\")\n",
    "    print(finaldf)\n",
    "    return finaldf"
   ]
  },
  {
   "cell_type": "code",
   "execution_count": 12,
   "id": "oriented-serbia",
   "metadata": {},
   "outputs": [
    {
     "name": "stdout",
     "output_type": "stream",
     "text": [
      "Printing ETF list: ['BWX', 'JMST', 'IGOV', 'USFR', 'CMF', 'ITM', 'FMB', 'SPIP', 'PZA', 'BAB', 'SPTI', 'VWOB', 'SPMB', 'SPTL', 'STIP', 'SPTS', 'TFI', 'SCHR', 'SUB', 'SHM', 'VGIT', 'SCHO', 'VGSH', 'VTIP', 'VTEB', 'IEI', 'BIL', 'VMBS', 'SCHP', 'IEF', 'SHV', 'TLT', 'EMB', 'SHY', 'MUB', 'MBB', 'TIP']\n",
      "[*********************100%***********************]  1 of 1 completed\n",
      "[*********************100%***********************]  1 of 1 completed"
     ]
    },
    {
     "name": "stderr",
     "output_type": "stream",
     "text": [
      "C:\\Users\\Admin\\anaconda3\\envs\\nlp_course\\lib\\site-packages\\pandas\\core\\frame.py:4449: SettingWithCopyWarning: \n",
      "A value is trying to be set on a copy of a slice from a DataFrame\n",
      "\n",
      "See the caveats in the documentation: https://pandas.pydata.org/pandas-docs/stable/user_guide/indexing.html#returning-a-view-versus-a-copy\n",
      "  errors=errors,\n"
     ]
    },
    {
     "name": "stdout",
     "output_type": "stream",
     "text": [
      "\n",
      "\r",
      "[*********************100%***********************]  1 of 1 completed"
     ]
    },
    {
     "name": "stderr",
     "output_type": "stream",
     "text": [
      "C:\\Users\\Admin\\anaconda3\\envs\\nlp_course\\lib\\site-packages\\pandas\\core\\frame.py:4449: SettingWithCopyWarning: \n",
      "A value is trying to be set on a copy of a slice from a DataFrame\n",
      "\n",
      "See the caveats in the documentation: https://pandas.pydata.org/pandas-docs/stable/user_guide/indexing.html#returning-a-view-versus-a-copy\n",
      "  errors=errors,\n"
     ]
    },
    {
     "name": "stdout",
     "output_type": "stream",
     "text": [
      "\n",
      "[*********************100%***********************]  1 of 1 completed\n"
     ]
    },
    {
     "name": "stderr",
     "output_type": "stream",
     "text": [
      "C:\\Users\\Admin\\anaconda3\\envs\\nlp_course\\lib\\site-packages\\pandas\\core\\frame.py:4449: SettingWithCopyWarning: \n",
      "A value is trying to be set on a copy of a slice from a DataFrame\n",
      "\n",
      "See the caveats in the documentation: https://pandas.pydata.org/pandas-docs/stable/user_guide/indexing.html#returning-a-view-versus-a-copy\n",
      "  errors=errors,\n",
      "C:\\Users\\Admin\\anaconda3\\envs\\nlp_course\\lib\\site-packages\\pandas\\core\\frame.py:4449: SettingWithCopyWarning: \n",
      "A value is trying to be set on a copy of a slice from a DataFrame\n",
      "\n",
      "See the caveats in the documentation: https://pandas.pydata.org/pandas-docs/stable/user_guide/indexing.html#returning-a-view-versus-a-copy\n",
      "  errors=errors,\n"
     ]
    },
    {
     "name": "stdout",
     "output_type": "stream",
     "text": [
      "[*********************100%***********************]  1 of 1 completed\n"
     ]
    },
    {
     "name": "stderr",
     "output_type": "stream",
     "text": [
      "C:\\Users\\Admin\\anaconda3\\envs\\nlp_course\\lib\\site-packages\\pandas\\core\\frame.py:4449: SettingWithCopyWarning: \n",
      "A value is trying to be set on a copy of a slice from a DataFrame\n",
      "\n",
      "See the caveats in the documentation: https://pandas.pydata.org/pandas-docs/stable/user_guide/indexing.html#returning-a-view-versus-a-copy\n",
      "  errors=errors,\n"
     ]
    },
    {
     "name": "stdout",
     "output_type": "stream",
     "text": [
      "[*********************100%***********************]  1 of 1 completed\n"
     ]
    },
    {
     "name": "stderr",
     "output_type": "stream",
     "text": [
      "C:\\Users\\Admin\\anaconda3\\envs\\nlp_course\\lib\\site-packages\\pandas\\core\\frame.py:4449: SettingWithCopyWarning: \n",
      "A value is trying to be set on a copy of a slice from a DataFrame\n",
      "\n",
      "See the caveats in the documentation: https://pandas.pydata.org/pandas-docs/stable/user_guide/indexing.html#returning-a-view-versus-a-copy\n",
      "  errors=errors,\n"
     ]
    },
    {
     "name": "stdout",
     "output_type": "stream",
     "text": [
      "[*********************100%***********************]  1 of 1 completed\n"
     ]
    },
    {
     "name": "stderr",
     "output_type": "stream",
     "text": [
      "C:\\Users\\Admin\\anaconda3\\envs\\nlp_course\\lib\\site-packages\\pandas\\core\\frame.py:4449: SettingWithCopyWarning: \n",
      "A value is trying to be set on a copy of a slice from a DataFrame\n",
      "\n",
      "See the caveats in the documentation: https://pandas.pydata.org/pandas-docs/stable/user_guide/indexing.html#returning-a-view-versus-a-copy\n",
      "  errors=errors,\n"
     ]
    },
    {
     "name": "stdout",
     "output_type": "stream",
     "text": [
      "[*********************100%***********************]  1 of 1 completed\n",
      "[*********************100%***********************]  1 of 1 completed"
     ]
    },
    {
     "name": "stderr",
     "output_type": "stream",
     "text": [
      "C:\\Users\\Admin\\anaconda3\\envs\\nlp_course\\lib\\site-packages\\pandas\\core\\frame.py:4449: SettingWithCopyWarning: \n",
      "A value is trying to be set on a copy of a slice from a DataFrame\n",
      "\n",
      "See the caveats in the documentation: https://pandas.pydata.org/pandas-docs/stable/user_guide/indexing.html#returning-a-view-versus-a-copy\n",
      "  errors=errors,\n"
     ]
    },
    {
     "name": "stdout",
     "output_type": "stream",
     "text": [
      "\n"
     ]
    },
    {
     "name": "stderr",
     "output_type": "stream",
     "text": [
      "C:\\Users\\Admin\\anaconda3\\envs\\nlp_course\\lib\\site-packages\\pandas\\core\\frame.py:4449: SettingWithCopyWarning: \n",
      "A value is trying to be set on a copy of a slice from a DataFrame\n",
      "\n",
      "See the caveats in the documentation: https://pandas.pydata.org/pandas-docs/stable/user_guide/indexing.html#returning-a-view-versus-a-copy\n",
      "  errors=errors,\n"
     ]
    },
    {
     "name": "stdout",
     "output_type": "stream",
     "text": [
      "[*********************100%***********************]  1 of 1 completed\n",
      "[*********************100%***********************]  1 of 1 completed\n"
     ]
    },
    {
     "name": "stderr",
     "output_type": "stream",
     "text": [
      "C:\\Users\\Admin\\anaconda3\\envs\\nlp_course\\lib\\site-packages\\pandas\\core\\frame.py:4449: SettingWithCopyWarning: \n",
      "A value is trying to be set on a copy of a slice from a DataFrame\n",
      "\n",
      "See the caveats in the documentation: https://pandas.pydata.org/pandas-docs/stable/user_guide/indexing.html#returning-a-view-versus-a-copy\n",
      "  errors=errors,\n",
      "C:\\Users\\Admin\\anaconda3\\envs\\nlp_course\\lib\\site-packages\\pandas\\core\\frame.py:4449: SettingWithCopyWarning: \n",
      "A value is trying to be set on a copy of a slice from a DataFrame\n",
      "\n",
      "See the caveats in the documentation: https://pandas.pydata.org/pandas-docs/stable/user_guide/indexing.html#returning-a-view-versus-a-copy\n",
      "  errors=errors,\n"
     ]
    },
    {
     "name": "stdout",
     "output_type": "stream",
     "text": [
      "[*********************100%***********************]  1 of 1 completed\n",
      "[*********************100%***********************]  1 of 1 completed"
     ]
    },
    {
     "name": "stderr",
     "output_type": "stream",
     "text": [
      "C:\\Users\\Admin\\anaconda3\\envs\\nlp_course\\lib\\site-packages\\pandas\\core\\frame.py:4449: SettingWithCopyWarning: \n",
      "A value is trying to be set on a copy of a slice from a DataFrame\n",
      "\n",
      "See the caveats in the documentation: https://pandas.pydata.org/pandas-docs/stable/user_guide/indexing.html#returning-a-view-versus-a-copy\n",
      "  errors=errors,\n"
     ]
    },
    {
     "name": "stdout",
     "output_type": "stream",
     "text": [
      "\n",
      "\r",
      "[*********************100%***********************]  1 of 1 completed"
     ]
    },
    {
     "name": "stderr",
     "output_type": "stream",
     "text": [
      "C:\\Users\\Admin\\anaconda3\\envs\\nlp_course\\lib\\site-packages\\pandas\\core\\frame.py:4449: SettingWithCopyWarning: \n",
      "A value is trying to be set on a copy of a slice from a DataFrame\n",
      "\n",
      "See the caveats in the documentation: https://pandas.pydata.org/pandas-docs/stable/user_guide/indexing.html#returning-a-view-versus-a-copy\n",
      "  errors=errors,\n"
     ]
    },
    {
     "name": "stdout",
     "output_type": "stream",
     "text": [
      "\n",
      "\r",
      "[*********************100%***********************]  1 of 1 completed"
     ]
    },
    {
     "name": "stderr",
     "output_type": "stream",
     "text": [
      "C:\\Users\\Admin\\anaconda3\\envs\\nlp_course\\lib\\site-packages\\pandas\\core\\frame.py:4449: SettingWithCopyWarning: \n",
      "A value is trying to be set on a copy of a slice from a DataFrame\n",
      "\n",
      "See the caveats in the documentation: https://pandas.pydata.org/pandas-docs/stable/user_guide/indexing.html#returning-a-view-versus-a-copy\n",
      "  errors=errors,\n"
     ]
    },
    {
     "name": "stdout",
     "output_type": "stream",
     "text": [
      "\n"
     ]
    },
    {
     "name": "stderr",
     "output_type": "stream",
     "text": [
      "C:\\Users\\Admin\\anaconda3\\envs\\nlp_course\\lib\\site-packages\\pandas\\core\\frame.py:4449: SettingWithCopyWarning: \n",
      "A value is trying to be set on a copy of a slice from a DataFrame\n",
      "\n",
      "See the caveats in the documentation: https://pandas.pydata.org/pandas-docs/stable/user_guide/indexing.html#returning-a-view-versus-a-copy\n",
      "  errors=errors,\n"
     ]
    },
    {
     "name": "stdout",
     "output_type": "stream",
     "text": [
      "[*********************100%***********************]  1 of 1 completed\n"
     ]
    },
    {
     "name": "stderr",
     "output_type": "stream",
     "text": [
      "C:\\Users\\Admin\\anaconda3\\envs\\nlp_course\\lib\\site-packages\\pandas\\core\\frame.py:4449: SettingWithCopyWarning: \n",
      "A value is trying to be set on a copy of a slice from a DataFrame\n",
      "\n",
      "See the caveats in the documentation: https://pandas.pydata.org/pandas-docs/stable/user_guide/indexing.html#returning-a-view-versus-a-copy\n",
      "  errors=errors,\n"
     ]
    },
    {
     "name": "stdout",
     "output_type": "stream",
     "text": [
      "[*********************100%***********************]  1 of 1 completed\n",
      "[*********************100%***********************]  1 of 1 completed"
     ]
    },
    {
     "name": "stderr",
     "output_type": "stream",
     "text": [
      "C:\\Users\\Admin\\anaconda3\\envs\\nlp_course\\lib\\site-packages\\pandas\\core\\frame.py:4449: SettingWithCopyWarning: \n",
      "A value is trying to be set on a copy of a slice from a DataFrame\n",
      "\n",
      "See the caveats in the documentation: https://pandas.pydata.org/pandas-docs/stable/user_guide/indexing.html#returning-a-view-versus-a-copy\n",
      "  errors=errors,\n"
     ]
    },
    {
     "name": "stdout",
     "output_type": "stream",
     "text": [
      "\n",
      "\r",
      "[*********************100%***********************]  1 of 1 completed"
     ]
    },
    {
     "name": "stderr",
     "output_type": "stream",
     "text": [
      "C:\\Users\\Admin\\anaconda3\\envs\\nlp_course\\lib\\site-packages\\pandas\\core\\frame.py:4449: SettingWithCopyWarning: \n",
      "A value is trying to be set on a copy of a slice from a DataFrame\n",
      "\n",
      "See the caveats in the documentation: https://pandas.pydata.org/pandas-docs/stable/user_guide/indexing.html#returning-a-view-versus-a-copy\n",
      "  errors=errors,\n"
     ]
    },
    {
     "name": "stdout",
     "output_type": "stream",
     "text": [
      "\n",
      "[*********************100%***********************]  1 of 1 completed\n"
     ]
    },
    {
     "name": "stderr",
     "output_type": "stream",
     "text": [
      "C:\\Users\\Admin\\anaconda3\\envs\\nlp_course\\lib\\site-packages\\pandas\\core\\frame.py:4449: SettingWithCopyWarning: \n",
      "A value is trying to be set on a copy of a slice from a DataFrame\n",
      "\n",
      "See the caveats in the documentation: https://pandas.pydata.org/pandas-docs/stable/user_guide/indexing.html#returning-a-view-versus-a-copy\n",
      "  errors=errors,\n",
      "C:\\Users\\Admin\\anaconda3\\envs\\nlp_course\\lib\\site-packages\\pandas\\core\\frame.py:4449: SettingWithCopyWarning: \n",
      "A value is trying to be set on a copy of a slice from a DataFrame\n",
      "\n",
      "See the caveats in the documentation: https://pandas.pydata.org/pandas-docs/stable/user_guide/indexing.html#returning-a-view-versus-a-copy\n",
      "  errors=errors,\n"
     ]
    },
    {
     "name": "stdout",
     "output_type": "stream",
     "text": [
      "[*********************100%***********************]  1 of 1 completed\n",
      "[*********************100%***********************]  1 of 1 completed"
     ]
    },
    {
     "name": "stderr",
     "output_type": "stream",
     "text": [
      "C:\\Users\\Admin\\anaconda3\\envs\\nlp_course\\lib\\site-packages\\pandas\\core\\frame.py:4449: SettingWithCopyWarning: \n",
      "A value is trying to be set on a copy of a slice from a DataFrame\n",
      "\n",
      "See the caveats in the documentation: https://pandas.pydata.org/pandas-docs/stable/user_guide/indexing.html#returning-a-view-versus-a-copy\n",
      "  errors=errors,\n"
     ]
    },
    {
     "name": "stdout",
     "output_type": "stream",
     "text": [
      "\n"
     ]
    },
    {
     "name": "stderr",
     "output_type": "stream",
     "text": [
      "C:\\Users\\Admin\\anaconda3\\envs\\nlp_course\\lib\\site-packages\\pandas\\core\\frame.py:4449: SettingWithCopyWarning: \n",
      "A value is trying to be set on a copy of a slice from a DataFrame\n",
      "\n",
      "See the caveats in the documentation: https://pandas.pydata.org/pandas-docs/stable/user_guide/indexing.html#returning-a-view-versus-a-copy\n",
      "  errors=errors,\n"
     ]
    },
    {
     "name": "stdout",
     "output_type": "stream",
     "text": [
      "[*********************100%***********************]  1 of 1 completed\n"
     ]
    },
    {
     "name": "stderr",
     "output_type": "stream",
     "text": [
      "C:\\Users\\Admin\\anaconda3\\envs\\nlp_course\\lib\\site-packages\\pandas\\core\\frame.py:4449: SettingWithCopyWarning: \n",
      "A value is trying to be set on a copy of a slice from a DataFrame\n",
      "\n",
      "See the caveats in the documentation: https://pandas.pydata.org/pandas-docs/stable/user_guide/indexing.html#returning-a-view-versus-a-copy\n",
      "  errors=errors,\n"
     ]
    },
    {
     "name": "stdout",
     "output_type": "stream",
     "text": [
      "[*********************100%***********************]  1 of 1 completed\n"
     ]
    },
    {
     "name": "stderr",
     "output_type": "stream",
     "text": [
      "C:\\Users\\Admin\\anaconda3\\envs\\nlp_course\\lib\\site-packages\\pandas\\core\\frame.py:4449: SettingWithCopyWarning: \n",
      "A value is trying to be set on a copy of a slice from a DataFrame\n",
      "\n",
      "See the caveats in the documentation: https://pandas.pydata.org/pandas-docs/stable/user_guide/indexing.html#returning-a-view-versus-a-copy\n",
      "  errors=errors,\n"
     ]
    },
    {
     "name": "stdout",
     "output_type": "stream",
     "text": [
      "[*********************100%***********************]  1 of 1 completed\n"
     ]
    },
    {
     "name": "stderr",
     "output_type": "stream",
     "text": [
      "C:\\Users\\Admin\\anaconda3\\envs\\nlp_course\\lib\\site-packages\\pandas\\core\\frame.py:4449: SettingWithCopyWarning: \n",
      "A value is trying to be set on a copy of a slice from a DataFrame\n",
      "\n",
      "See the caveats in the documentation: https://pandas.pydata.org/pandas-docs/stable/user_guide/indexing.html#returning-a-view-versus-a-copy\n",
      "  errors=errors,\n"
     ]
    },
    {
     "name": "stdout",
     "output_type": "stream",
     "text": [
      "[*********************100%***********************]  1 of 1 completed\n"
     ]
    },
    {
     "name": "stderr",
     "output_type": "stream",
     "text": [
      "C:\\Users\\Admin\\anaconda3\\envs\\nlp_course\\lib\\site-packages\\pandas\\core\\frame.py:4449: SettingWithCopyWarning: \n",
      "A value is trying to be set on a copy of a slice from a DataFrame\n",
      "\n",
      "See the caveats in the documentation: https://pandas.pydata.org/pandas-docs/stable/user_guide/indexing.html#returning-a-view-versus-a-copy\n",
      "  errors=errors,\n"
     ]
    },
    {
     "name": "stdout",
     "output_type": "stream",
     "text": [
      "[*********************100%***********************]  1 of 1 completed\n"
     ]
    },
    {
     "name": "stderr",
     "output_type": "stream",
     "text": [
      "C:\\Users\\Admin\\anaconda3\\envs\\nlp_course\\lib\\site-packages\\pandas\\core\\frame.py:4449: SettingWithCopyWarning: \n",
      "A value is trying to be set on a copy of a slice from a DataFrame\n",
      "\n",
      "See the caveats in the documentation: https://pandas.pydata.org/pandas-docs/stable/user_guide/indexing.html#returning-a-view-versus-a-copy\n",
      "  errors=errors,\n"
     ]
    },
    {
     "name": "stdout",
     "output_type": "stream",
     "text": [
      "[*********************100%***********************]  1 of 1 completed\n",
      "[*********************100%***********************]  1 of 1 completed"
     ]
    },
    {
     "name": "stderr",
     "output_type": "stream",
     "text": [
      "C:\\Users\\Admin\\anaconda3\\envs\\nlp_course\\lib\\site-packages\\pandas\\core\\frame.py:4449: SettingWithCopyWarning: \n",
      "A value is trying to be set on a copy of a slice from a DataFrame\n",
      "\n",
      "See the caveats in the documentation: https://pandas.pydata.org/pandas-docs/stable/user_guide/indexing.html#returning-a-view-versus-a-copy\n",
      "  errors=errors,\n"
     ]
    },
    {
     "name": "stdout",
     "output_type": "stream",
     "text": [
      "\n",
      "\r",
      "[*********************100%***********************]  1 of 1 completed"
     ]
    },
    {
     "name": "stderr",
     "output_type": "stream",
     "text": [
      "C:\\Users\\Admin\\anaconda3\\envs\\nlp_course\\lib\\site-packages\\pandas\\core\\frame.py:4449: SettingWithCopyWarning: \n",
      "A value is trying to be set on a copy of a slice from a DataFrame\n",
      "\n",
      "See the caveats in the documentation: https://pandas.pydata.org/pandas-docs/stable/user_guide/indexing.html#returning-a-view-versus-a-copy\n",
      "  errors=errors,\n"
     ]
    },
    {
     "name": "stdout",
     "output_type": "stream",
     "text": [
      "\n"
     ]
    },
    {
     "name": "stderr",
     "output_type": "stream",
     "text": [
      "C:\\Users\\Admin\\anaconda3\\envs\\nlp_course\\lib\\site-packages\\pandas\\core\\frame.py:4449: SettingWithCopyWarning: \n",
      "A value is trying to be set on a copy of a slice from a DataFrame\n",
      "\n",
      "See the caveats in the documentation: https://pandas.pydata.org/pandas-docs/stable/user_guide/indexing.html#returning-a-view-versus-a-copy\n",
      "  errors=errors,\n"
     ]
    },
    {
     "name": "stdout",
     "output_type": "stream",
     "text": [
      "[*********************100%***********************]  1 of 1 completed\n",
      "[*********************100%***********************]  1 of 1 completed"
     ]
    },
    {
     "name": "stderr",
     "output_type": "stream",
     "text": [
      "C:\\Users\\Admin\\anaconda3\\envs\\nlp_course\\lib\\site-packages\\pandas\\core\\frame.py:4449: SettingWithCopyWarning: \n",
      "A value is trying to be set on a copy of a slice from a DataFrame\n",
      "\n",
      "See the caveats in the documentation: https://pandas.pydata.org/pandas-docs/stable/user_guide/indexing.html#returning-a-view-versus-a-copy\n",
      "  errors=errors,\n"
     ]
    },
    {
     "name": "stdout",
     "output_type": "stream",
     "text": [
      "\n",
      "\r",
      "[*********************100%***********************]  1 of 1 completed"
     ]
    },
    {
     "name": "stderr",
     "output_type": "stream",
     "text": [
      "C:\\Users\\Admin\\anaconda3\\envs\\nlp_course\\lib\\site-packages\\pandas\\core\\frame.py:4449: SettingWithCopyWarning: \n",
      "A value is trying to be set on a copy of a slice from a DataFrame\n",
      "\n",
      "See the caveats in the documentation: https://pandas.pydata.org/pandas-docs/stable/user_guide/indexing.html#returning-a-view-versus-a-copy\n",
      "  errors=errors,\n"
     ]
    },
    {
     "name": "stdout",
     "output_type": "stream",
     "text": [
      "\n"
     ]
    },
    {
     "name": "stderr",
     "output_type": "stream",
     "text": [
      "C:\\Users\\Admin\\anaconda3\\envs\\nlp_course\\lib\\site-packages\\pandas\\core\\frame.py:4449: SettingWithCopyWarning: \n",
      "A value is trying to be set on a copy of a slice from a DataFrame\n",
      "\n",
      "See the caveats in the documentation: https://pandas.pydata.org/pandas-docs/stable/user_guide/indexing.html#returning-a-view-versus-a-copy\n",
      "  errors=errors,\n"
     ]
    },
    {
     "name": "stdout",
     "output_type": "stream",
     "text": [
      "[*********************100%***********************]  1 of 1 completed\n"
     ]
    },
    {
     "name": "stderr",
     "output_type": "stream",
     "text": [
      "C:\\Users\\Admin\\anaconda3\\envs\\nlp_course\\lib\\site-packages\\pandas\\core\\frame.py:4449: SettingWithCopyWarning: \n",
      "A value is trying to be set on a copy of a slice from a DataFrame\n",
      "\n",
      "See the caveats in the documentation: https://pandas.pydata.org/pandas-docs/stable/user_guide/indexing.html#returning-a-view-versus-a-copy\n",
      "  errors=errors,\n"
     ]
    },
    {
     "name": "stdout",
     "output_type": "stream",
     "text": [
      "[*********************100%***********************]  1 of 1 completed\n"
     ]
    },
    {
     "name": "stderr",
     "output_type": "stream",
     "text": [
      "C:\\Users\\Admin\\anaconda3\\envs\\nlp_course\\lib\\site-packages\\pandas\\core\\frame.py:4449: SettingWithCopyWarning: \n",
      "A value is trying to be set on a copy of a slice from a DataFrame\n",
      "\n",
      "See the caveats in the documentation: https://pandas.pydata.org/pandas-docs/stable/user_guide/indexing.html#returning-a-view-versus-a-copy\n",
      "  errors=errors,\n"
     ]
    },
    {
     "name": "stdout",
     "output_type": "stream",
     "text": [
      "[*********************100%***********************]  1 of 1 completed\n"
     ]
    },
    {
     "name": "stderr",
     "output_type": "stream",
     "text": [
      "C:\\Users\\Admin\\anaconda3\\envs\\nlp_course\\lib\\site-packages\\pandas\\core\\frame.py:4449: SettingWithCopyWarning: \n",
      "A value is trying to be set on a copy of a slice from a DataFrame\n",
      "\n",
      "See the caveats in the documentation: https://pandas.pydata.org/pandas-docs/stable/user_guide/indexing.html#returning-a-view-versus-a-copy\n",
      "  errors=errors,\n"
     ]
    },
    {
     "name": "stdout",
     "output_type": "stream",
     "text": [
      "[*********************100%***********************]  1 of 1 completed\n",
      "Final df is:\n",
      "            BWX Adj Close  IGOV Adj Close  USFR Adj Close  CMF Adj Close  \\\n",
      "Date                                                                       \n",
      "2016-06-06      27.082169       48.747730       23.560335      54.389580   \n",
      "2016-06-07      27.182878       48.910423       23.560335      54.425735   \n",
      "2016-06-08      27.288389       49.063274       23.560335      54.529694   \n",
      "2016-06-09      27.202055       48.954796       23.692959      54.602020   \n",
      "2016-06-10      27.130123       48.747730       23.692959      54.728569   \n",
      "...                   ...             ...             ...            ...   \n",
      "2021-05-27      29.906969       53.419998       25.100000      62.449024   \n",
      "2021-05-28      29.866999       53.380001       25.100000      62.468998   \n",
      "2021-06-01      29.940001       53.540001       25.110001      62.480000   \n",
      "2021-06-02      29.959999       53.430000       25.110001      62.490002   \n",
      "2021-06-03      29.770000       53.139999       25.100000      62.529999   \n",
      "\n",
      "            ITM Adj Close  FMB Adj Close  SPIP Adj Close  PZA Adj Close  \\\n",
      "Date                                                                      \n",
      "2016-06-06      43.650139      47.117020       25.070551      22.615705   \n",
      "2016-06-07      43.739643      47.258194       25.158037      22.641693   \n",
      "2016-06-08      43.739643      47.238789       25.201784      22.667673   \n",
      "2016-06-09      43.793331      47.311134       25.232403      22.710976   \n",
      "2016-06-10      43.900707      47.337608       25.236778      22.762951   \n",
      "...                   ...            ...             ...            ...   \n",
      "2021-05-27      51.642986      57.130001       30.858334      27.120001   \n",
      "2021-05-28      51.632999      57.189999       30.917999      27.180000   \n",
      "2021-06-01      51.689999      57.139999       30.980000      27.190001   \n",
      "2021-06-02      51.700001      57.209999       30.950001      27.209999   \n",
      "2021-06-03      51.700001      57.209999       30.840000      27.209999   \n",
      "\n",
      "            BAB Adj Close  SPTI Adj Close  ...  VMBS Adj Close  \\\n",
      "Date                                       ...                   \n",
      "2016-06-06      25.691917       28.400925  ...       47.860394   \n",
      "2016-06-07      25.733503       28.447485  ...       47.842533   \n",
      "2016-06-08      25.716869       28.456804  ...       47.905029   \n",
      "2016-06-09      25.791727       28.475428  ...       47.789001   \n",
      "2016-06-10      25.924803       28.512669  ...       47.869312   \n",
      "...                   ...             ...  ...             ...   \n",
      "2021-05-27      32.590000       32.336006  ...       53.392021   \n",
      "2021-05-28      32.570000       32.355999  ...       53.422001   \n",
      "2021-06-01      32.560001       32.340000  ...       53.450001   \n",
      "2021-06-02      32.639999       32.369999  ...       53.430000   \n",
      "2021-06-03      32.540001       32.310001  ...       53.389999   \n",
      "\n",
      "            SCHP Adj Close  IEF Adj Close  SHV Adj Close  TLT Adj Close  \\\n",
      "Date                                                                      \n",
      "2016-06-06       50.497444     101.489342     104.400894     118.434822   \n",
      "2016-06-07       50.669586     101.636162     104.410385     118.721413   \n",
      "2016-06-08       50.778290     101.755432     104.410385     119.357323   \n",
      "2016-06-09       50.805481     101.911407     104.410385     120.127502   \n",
      "2016-06-10       50.814537     102.269302     104.419823     120.709686   \n",
      "...                    ...            ...            ...            ...   \n",
      "2021-05-27       62.044300     114.330994     110.519997     138.460693   \n",
      "2021-05-28       62.114002     114.320999     110.510002     138.241013   \n",
      "2021-06-01       62.259998     114.300003     110.500000     138.210007   \n",
      "2021-06-02       62.240002     114.430000     110.510002     138.529999   \n",
      "2021-06-03       62.000000     114.139999     110.500000     138.009995   \n",
      "\n",
      "            EMB Adj Close  SHY Adj Close  MUB Adj Close  MBB Adj Close  \\\n",
      "Date                                                                     \n",
      "2016-06-06      88.997314      79.749321     100.320580      96.856636   \n",
      "2016-06-07      89.140068      79.768066     100.383049      96.891991   \n",
      "2016-06-08      89.608002      79.786850     100.490143      96.856636   \n",
      "2016-06-09      89.496956      79.805626     100.659729      96.971657   \n",
      "2016-06-10      89.155922      79.852600     100.829338      96.989334   \n",
      "...                   ...            ...            ...            ...   \n",
      "2021-05-27     111.272736      86.307999     116.822960     108.192062   \n",
      "2021-05-28     111.501999      86.307999     116.793007     108.242004   \n",
      "2021-06-01     111.650002      86.290001     116.820000     108.220001   \n",
      "2021-06-02     111.820000      86.300003     116.940002     108.239998   \n",
      "2021-06-03     111.269997      86.269997     116.919998     108.199997   \n",
      "\n",
      "            TIP Adj Close  \n",
      "Date                       \n",
      "2016-06-06     103.912743  \n",
      "2016-06-07     104.192375  \n",
      "2016-06-08     104.435959  \n",
      "2016-06-09     104.472031  \n",
      "2016-06-10     104.472031  \n",
      "...                   ...  \n",
      "2021-05-27     127.009430  \n",
      "2021-05-28     127.088997  \n",
      "2021-06-01     127.459999  \n",
      "2021-06-02     127.300003  \n",
      "2021-06-03     126.870003  \n",
      "\n",
      "[1258 rows x 36 columns]\n"
     ]
    },
    {
     "name": "stderr",
     "output_type": "stream",
     "text": [
      "C:\\Users\\Admin\\anaconda3\\envs\\nlp_course\\lib\\site-packages\\pandas\\core\\frame.py:4449: SettingWithCopyWarning: \n",
      "A value is trying to be set on a copy of a slice from a DataFrame\n",
      "\n",
      "See the caveats in the documentation: https://pandas.pydata.org/pandas-docs/stable/user_guide/indexing.html#returning-a-view-versus-a-copy\n",
      "  errors=errors,\n"
     ]
    }
   ],
   "source": [
    "values = get_data(new_data)"
   ]
  },
  {
   "cell_type": "code",
   "execution_count": 13,
   "id": "julian-raising",
   "metadata": {},
   "outputs": [
    {
     "data": {
      "text/html": [
       "<div>\n",
       "<style scoped>\n",
       "    .dataframe tbody tr th:only-of-type {\n",
       "        vertical-align: middle;\n",
       "    }\n",
       "\n",
       "    .dataframe tbody tr th {\n",
       "        vertical-align: top;\n",
       "    }\n",
       "\n",
       "    .dataframe thead th {\n",
       "        text-align: right;\n",
       "    }\n",
       "</style>\n",
       "<table border=\"1\" class=\"dataframe\">\n",
       "  <thead>\n",
       "    <tr style=\"text-align: right;\">\n",
       "      <th></th>\n",
       "      <th>BWX Adj Close</th>\n",
       "      <th>IGOV Adj Close</th>\n",
       "      <th>USFR Adj Close</th>\n",
       "      <th>CMF Adj Close</th>\n",
       "      <th>ITM Adj Close</th>\n",
       "      <th>FMB Adj Close</th>\n",
       "      <th>SPIP Adj Close</th>\n",
       "      <th>PZA Adj Close</th>\n",
       "      <th>BAB Adj Close</th>\n",
       "      <th>SPTI Adj Close</th>\n",
       "      <th>...</th>\n",
       "      <th>VMBS Adj Close</th>\n",
       "      <th>SCHP Adj Close</th>\n",
       "      <th>IEF Adj Close</th>\n",
       "      <th>SHV Adj Close</th>\n",
       "      <th>TLT Adj Close</th>\n",
       "      <th>EMB Adj Close</th>\n",
       "      <th>SHY Adj Close</th>\n",
       "      <th>MUB Adj Close</th>\n",
       "      <th>MBB Adj Close</th>\n",
       "      <th>TIP Adj Close</th>\n",
       "    </tr>\n",
       "    <tr>\n",
       "      <th>Date</th>\n",
       "      <th></th>\n",
       "      <th></th>\n",
       "      <th></th>\n",
       "      <th></th>\n",
       "      <th></th>\n",
       "      <th></th>\n",
       "      <th></th>\n",
       "      <th></th>\n",
       "      <th></th>\n",
       "      <th></th>\n",
       "      <th></th>\n",
       "      <th></th>\n",
       "      <th></th>\n",
       "      <th></th>\n",
       "      <th></th>\n",
       "      <th></th>\n",
       "      <th></th>\n",
       "      <th></th>\n",
       "      <th></th>\n",
       "      <th></th>\n",
       "      <th></th>\n",
       "    </tr>\n",
       "  </thead>\n",
       "  <tbody>\n",
       "    <tr>\n",
       "      <th>2016-06-06</th>\n",
       "      <td>27.082169</td>\n",
       "      <td>48.747730</td>\n",
       "      <td>23.560335</td>\n",
       "      <td>54.389580</td>\n",
       "      <td>43.650139</td>\n",
       "      <td>47.117020</td>\n",
       "      <td>25.070551</td>\n",
       "      <td>22.615705</td>\n",
       "      <td>25.691917</td>\n",
       "      <td>28.400925</td>\n",
       "      <td>...</td>\n",
       "      <td>47.860394</td>\n",
       "      <td>50.497444</td>\n",
       "      <td>101.489342</td>\n",
       "      <td>104.400894</td>\n",
       "      <td>118.434822</td>\n",
       "      <td>88.997314</td>\n",
       "      <td>79.749321</td>\n",
       "      <td>100.320580</td>\n",
       "      <td>96.856636</td>\n",
       "      <td>103.912743</td>\n",
       "    </tr>\n",
       "    <tr>\n",
       "      <th>2016-06-07</th>\n",
       "      <td>27.182878</td>\n",
       "      <td>48.910423</td>\n",
       "      <td>23.560335</td>\n",
       "      <td>54.425735</td>\n",
       "      <td>43.739643</td>\n",
       "      <td>47.258194</td>\n",
       "      <td>25.158037</td>\n",
       "      <td>22.641693</td>\n",
       "      <td>25.733503</td>\n",
       "      <td>28.447485</td>\n",
       "      <td>...</td>\n",
       "      <td>47.842533</td>\n",
       "      <td>50.669586</td>\n",
       "      <td>101.636162</td>\n",
       "      <td>104.410385</td>\n",
       "      <td>118.721413</td>\n",
       "      <td>89.140068</td>\n",
       "      <td>79.768066</td>\n",
       "      <td>100.383049</td>\n",
       "      <td>96.891991</td>\n",
       "      <td>104.192375</td>\n",
       "    </tr>\n",
       "    <tr>\n",
       "      <th>2016-06-08</th>\n",
       "      <td>27.288389</td>\n",
       "      <td>49.063274</td>\n",
       "      <td>23.560335</td>\n",
       "      <td>54.529694</td>\n",
       "      <td>43.739643</td>\n",
       "      <td>47.238789</td>\n",
       "      <td>25.201784</td>\n",
       "      <td>22.667673</td>\n",
       "      <td>25.716869</td>\n",
       "      <td>28.456804</td>\n",
       "      <td>...</td>\n",
       "      <td>47.905029</td>\n",
       "      <td>50.778290</td>\n",
       "      <td>101.755432</td>\n",
       "      <td>104.410385</td>\n",
       "      <td>119.357323</td>\n",
       "      <td>89.608002</td>\n",
       "      <td>79.786850</td>\n",
       "      <td>100.490143</td>\n",
       "      <td>96.856636</td>\n",
       "      <td>104.435959</td>\n",
       "    </tr>\n",
       "    <tr>\n",
       "      <th>2016-06-09</th>\n",
       "      <td>27.202055</td>\n",
       "      <td>48.954796</td>\n",
       "      <td>23.692959</td>\n",
       "      <td>54.602020</td>\n",
       "      <td>43.793331</td>\n",
       "      <td>47.311134</td>\n",
       "      <td>25.232403</td>\n",
       "      <td>22.710976</td>\n",
       "      <td>25.791727</td>\n",
       "      <td>28.475428</td>\n",
       "      <td>...</td>\n",
       "      <td>47.789001</td>\n",
       "      <td>50.805481</td>\n",
       "      <td>101.911407</td>\n",
       "      <td>104.410385</td>\n",
       "      <td>120.127502</td>\n",
       "      <td>89.496956</td>\n",
       "      <td>79.805626</td>\n",
       "      <td>100.659729</td>\n",
       "      <td>96.971657</td>\n",
       "      <td>104.472031</td>\n",
       "    </tr>\n",
       "    <tr>\n",
       "      <th>2016-06-10</th>\n",
       "      <td>27.130123</td>\n",
       "      <td>48.747730</td>\n",
       "      <td>23.692959</td>\n",
       "      <td>54.728569</td>\n",
       "      <td>43.900707</td>\n",
       "      <td>47.337608</td>\n",
       "      <td>25.236778</td>\n",
       "      <td>22.762951</td>\n",
       "      <td>25.924803</td>\n",
       "      <td>28.512669</td>\n",
       "      <td>...</td>\n",
       "      <td>47.869312</td>\n",
       "      <td>50.814537</td>\n",
       "      <td>102.269302</td>\n",
       "      <td>104.419823</td>\n",
       "      <td>120.709686</td>\n",
       "      <td>89.155922</td>\n",
       "      <td>79.852600</td>\n",
       "      <td>100.829338</td>\n",
       "      <td>96.989334</td>\n",
       "      <td>104.472031</td>\n",
       "    </tr>\n",
       "  </tbody>\n",
       "</table>\n",
       "<p>5 rows × 36 columns</p>\n",
       "</div>"
      ],
      "text/plain": [
       "            BWX Adj Close  IGOV Adj Close  USFR Adj Close  CMF Adj Close  \\\n",
       "Date                                                                       \n",
       "2016-06-06      27.082169       48.747730       23.560335      54.389580   \n",
       "2016-06-07      27.182878       48.910423       23.560335      54.425735   \n",
       "2016-06-08      27.288389       49.063274       23.560335      54.529694   \n",
       "2016-06-09      27.202055       48.954796       23.692959      54.602020   \n",
       "2016-06-10      27.130123       48.747730       23.692959      54.728569   \n",
       "\n",
       "            ITM Adj Close  FMB Adj Close  SPIP Adj Close  PZA Adj Close  \\\n",
       "Date                                                                      \n",
       "2016-06-06      43.650139      47.117020       25.070551      22.615705   \n",
       "2016-06-07      43.739643      47.258194       25.158037      22.641693   \n",
       "2016-06-08      43.739643      47.238789       25.201784      22.667673   \n",
       "2016-06-09      43.793331      47.311134       25.232403      22.710976   \n",
       "2016-06-10      43.900707      47.337608       25.236778      22.762951   \n",
       "\n",
       "            BAB Adj Close  SPTI Adj Close  ...  VMBS Adj Close  \\\n",
       "Date                                       ...                   \n",
       "2016-06-06      25.691917       28.400925  ...       47.860394   \n",
       "2016-06-07      25.733503       28.447485  ...       47.842533   \n",
       "2016-06-08      25.716869       28.456804  ...       47.905029   \n",
       "2016-06-09      25.791727       28.475428  ...       47.789001   \n",
       "2016-06-10      25.924803       28.512669  ...       47.869312   \n",
       "\n",
       "            SCHP Adj Close  IEF Adj Close  SHV Adj Close  TLT Adj Close  \\\n",
       "Date                                                                      \n",
       "2016-06-06       50.497444     101.489342     104.400894     118.434822   \n",
       "2016-06-07       50.669586     101.636162     104.410385     118.721413   \n",
       "2016-06-08       50.778290     101.755432     104.410385     119.357323   \n",
       "2016-06-09       50.805481     101.911407     104.410385     120.127502   \n",
       "2016-06-10       50.814537     102.269302     104.419823     120.709686   \n",
       "\n",
       "            EMB Adj Close  SHY Adj Close  MUB Adj Close  MBB Adj Close  \\\n",
       "Date                                                                     \n",
       "2016-06-06      88.997314      79.749321     100.320580      96.856636   \n",
       "2016-06-07      89.140068      79.768066     100.383049      96.891991   \n",
       "2016-06-08      89.608002      79.786850     100.490143      96.856636   \n",
       "2016-06-09      89.496956      79.805626     100.659729      96.971657   \n",
       "2016-06-10      89.155922      79.852600     100.829338      96.989334   \n",
       "\n",
       "            TIP Adj Close  \n",
       "Date                       \n",
       "2016-06-06     103.912743  \n",
       "2016-06-07     104.192375  \n",
       "2016-06-08     104.435959  \n",
       "2016-06-09     104.472031  \n",
       "2016-06-10     104.472031  \n",
       "\n",
       "[5 rows x 36 columns]"
      ]
     },
     "execution_count": 13,
     "metadata": {},
     "output_type": "execute_result"
    }
   ],
   "source": [
    "values.head()"
   ]
  },
  {
   "cell_type": "code",
   "execution_count": 14,
   "id": "finnish-shadow",
   "metadata": {},
   "outputs": [],
   "source": [
    "stocks = values\n"
   ]
  },
  {
   "cell_type": "code",
   "execution_count": 15,
   "id": "difficult-deposit",
   "metadata": {},
   "outputs": [
    {
     "data": {
      "text/plain": [
       "BWX Adj Close     0.000086\n",
       "IGOV Adj Close    0.000078\n",
       "USFR Adj Close    0.000051\n",
       "CMF Adj Close     0.000118\n",
       "ITM Adj Close     0.000151\n",
       "FMB Adj Close     0.000160\n",
       "SPIP Adj Close    0.000171\n",
       "PZA Adj Close     0.000160\n",
       "BAB Adj Close     0.000212\n",
       "SPTI Adj Close    0.000104\n",
       "VWOB Adj Close    0.000206\n",
       "SPMB Adj Close    0.000100\n",
       "SPTL Adj Close    0.000157\n",
       "STIP Adj Close    0.000116\n",
       "SPTS Adj Close    0.000059\n",
       "TFI Adj Close     0.000128\n",
       "SCHR Adj Close    0.000095\n",
       "SUB Adj Close     0.000062\n",
       "SHM Adj Close     0.000067\n",
       "VGIT Adj Close    0.000096\n",
       "SCHO Adj Close    0.000066\n",
       "VGSH Adj Close    0.000066\n",
       "VTIP Adj Close    0.000114\n",
       "VTEB Adj Close    0.000136\n",
       "IEI Adj Close     0.000092\n",
       "BIL Adj Close     0.000038\n",
       "VMBS Adj Close    0.000089\n",
       "SCHP Adj Close    0.000168\n",
       "IEF Adj Close     0.000099\n",
       "SHV Adj Close     0.000045\n",
       "TLT Adj Close     0.000160\n",
       "EMB Adj Close     0.000199\n",
       "SHY Adj Close     0.000063\n",
       "MUB Adj Close     0.000128\n",
       "MBB Adj Close     0.000090\n",
       "TIP Adj Close     0.000164\n",
       "dtype: float64"
      ]
     },
     "execution_count": 15,
     "metadata": {},
     "output_type": "execute_result"
    }
   ],
   "source": [
    "stocks.pct_change(1).mean()"
   ]
  },
  {
   "cell_type": "code",
   "execution_count": 17,
   "id": "favorite-russell",
   "metadata": {},
   "outputs": [],
   "source": [
    "import numpy as np"
   ]
  },
  {
   "cell_type": "code",
   "execution_count": 18,
   "id": "knowing-monaco",
   "metadata": {},
   "outputs": [],
   "source": [
    "log_return = np.log(stocks/stocks.shift(1))"
   ]
  },
  {
   "cell_type": "code",
   "execution_count": 20,
   "id": "intellectual-imaging",
   "metadata": {},
   "outputs": [
    {
     "data": {
      "text/html": [
       "<div>\n",
       "<style scoped>\n",
       "    .dataframe tbody tr th:only-of-type {\n",
       "        vertical-align: middle;\n",
       "    }\n",
       "\n",
       "    .dataframe tbody tr th {\n",
       "        vertical-align: top;\n",
       "    }\n",
       "\n",
       "    .dataframe thead th {\n",
       "        text-align: right;\n",
       "    }\n",
       "</style>\n",
       "<table border=\"1\" class=\"dataframe\">\n",
       "  <thead>\n",
       "    <tr style=\"text-align: right;\">\n",
       "      <th></th>\n",
       "      <th>BWX Adj Close</th>\n",
       "      <th>IGOV Adj Close</th>\n",
       "      <th>USFR Adj Close</th>\n",
       "      <th>CMF Adj Close</th>\n",
       "      <th>ITM Adj Close</th>\n",
       "      <th>FMB Adj Close</th>\n",
       "      <th>SPIP Adj Close</th>\n",
       "      <th>PZA Adj Close</th>\n",
       "      <th>BAB Adj Close</th>\n",
       "      <th>SPTI Adj Close</th>\n",
       "      <th>...</th>\n",
       "      <th>VMBS Adj Close</th>\n",
       "      <th>SCHP Adj Close</th>\n",
       "      <th>IEF Adj Close</th>\n",
       "      <th>SHV Adj Close</th>\n",
       "      <th>TLT Adj Close</th>\n",
       "      <th>EMB Adj Close</th>\n",
       "      <th>SHY Adj Close</th>\n",
       "      <th>MUB Adj Close</th>\n",
       "      <th>MBB Adj Close</th>\n",
       "      <th>TIP Adj Close</th>\n",
       "    </tr>\n",
       "    <tr>\n",
       "      <th>Date</th>\n",
       "      <th></th>\n",
       "      <th></th>\n",
       "      <th></th>\n",
       "      <th></th>\n",
       "      <th></th>\n",
       "      <th></th>\n",
       "      <th></th>\n",
       "      <th></th>\n",
       "      <th></th>\n",
       "      <th></th>\n",
       "      <th></th>\n",
       "      <th></th>\n",
       "      <th></th>\n",
       "      <th></th>\n",
       "      <th></th>\n",
       "      <th></th>\n",
       "      <th></th>\n",
       "      <th></th>\n",
       "      <th></th>\n",
       "      <th></th>\n",
       "      <th></th>\n",
       "    </tr>\n",
       "  </thead>\n",
       "  <tbody>\n",
       "    <tr>\n",
       "      <th>2016-06-06</th>\n",
       "      <td>NaN</td>\n",
       "      <td>NaN</td>\n",
       "      <td>NaN</td>\n",
       "      <td>NaN</td>\n",
       "      <td>NaN</td>\n",
       "      <td>NaN</td>\n",
       "      <td>NaN</td>\n",
       "      <td>NaN</td>\n",
       "      <td>NaN</td>\n",
       "      <td>NaN</td>\n",
       "      <td>...</td>\n",
       "      <td>NaN</td>\n",
       "      <td>NaN</td>\n",
       "      <td>NaN</td>\n",
       "      <td>NaN</td>\n",
       "      <td>NaN</td>\n",
       "      <td>NaN</td>\n",
       "      <td>NaN</td>\n",
       "      <td>NaN</td>\n",
       "      <td>NaN</td>\n",
       "      <td>NaN</td>\n",
       "    </tr>\n",
       "    <tr>\n",
       "      <th>2016-06-07</th>\n",
       "      <td>0.003712</td>\n",
       "      <td>0.003332</td>\n",
       "      <td>0.000000</td>\n",
       "      <td>0.000665</td>\n",
       "      <td>0.002048</td>\n",
       "      <td>0.002992</td>\n",
       "      <td>0.003484</td>\n",
       "      <td>0.001148</td>\n",
       "      <td>0.001617</td>\n",
       "      <td>0.001638</td>\n",
       "      <td>...</td>\n",
       "      <td>-0.000373</td>\n",
       "      <td>0.003403</td>\n",
       "      <td>0.001446</td>\n",
       "      <td>0.000091</td>\n",
       "      <td>0.002417</td>\n",
       "      <td>0.001603</td>\n",
       "      <td>0.000235</td>\n",
       "      <td>0.000623</td>\n",
       "      <td>0.000365</td>\n",
       "      <td>0.002687</td>\n",
       "    </tr>\n",
       "    <tr>\n",
       "      <th>2016-06-08</th>\n",
       "      <td>0.003874</td>\n",
       "      <td>0.003120</td>\n",
       "      <td>0.000000</td>\n",
       "      <td>0.001908</td>\n",
       "      <td>0.000000</td>\n",
       "      <td>-0.000411</td>\n",
       "      <td>0.001737</td>\n",
       "      <td>0.001147</td>\n",
       "      <td>-0.000647</td>\n",
       "      <td>0.000328</td>\n",
       "      <td>...</td>\n",
       "      <td>0.001305</td>\n",
       "      <td>0.002143</td>\n",
       "      <td>0.001173</td>\n",
       "      <td>0.000000</td>\n",
       "      <td>0.005342</td>\n",
       "      <td>0.005236</td>\n",
       "      <td>0.000235</td>\n",
       "      <td>0.001066</td>\n",
       "      <td>-0.000365</td>\n",
       "      <td>0.002335</td>\n",
       "    </tr>\n",
       "    <tr>\n",
       "      <th>2016-06-09</th>\n",
       "      <td>-0.003169</td>\n",
       "      <td>-0.002213</td>\n",
       "      <td>0.005613</td>\n",
       "      <td>0.001325</td>\n",
       "      <td>0.001227</td>\n",
       "      <td>0.001530</td>\n",
       "      <td>0.001214</td>\n",
       "      <td>0.001908</td>\n",
       "      <td>0.002907</td>\n",
       "      <td>0.000654</td>\n",
       "      <td>...</td>\n",
       "      <td>-0.002425</td>\n",
       "      <td>0.000535</td>\n",
       "      <td>0.001532</td>\n",
       "      <td>0.000000</td>\n",
       "      <td>0.006432</td>\n",
       "      <td>-0.001240</td>\n",
       "      <td>0.000235</td>\n",
       "      <td>0.001686</td>\n",
       "      <td>0.001187</td>\n",
       "      <td>0.000345</td>\n",
       "    </tr>\n",
       "    <tr>\n",
       "      <th>2016-06-10</th>\n",
       "      <td>-0.002648</td>\n",
       "      <td>-0.004239</td>\n",
       "      <td>0.000000</td>\n",
       "      <td>0.002315</td>\n",
       "      <td>0.002449</td>\n",
       "      <td>0.000559</td>\n",
       "      <td>0.000173</td>\n",
       "      <td>0.002286</td>\n",
       "      <td>0.005146</td>\n",
       "      <td>0.001307</td>\n",
       "      <td>...</td>\n",
       "      <td>0.001679</td>\n",
       "      <td>0.000178</td>\n",
       "      <td>0.003506</td>\n",
       "      <td>0.000090</td>\n",
       "      <td>0.004835</td>\n",
       "      <td>-0.003818</td>\n",
       "      <td>0.000588</td>\n",
       "      <td>0.001684</td>\n",
       "      <td>0.000182</td>\n",
       "      <td>0.000000</td>\n",
       "    </tr>\n",
       "  </tbody>\n",
       "</table>\n",
       "<p>5 rows × 36 columns</p>\n",
       "</div>"
      ],
      "text/plain": [
       "            BWX Adj Close  IGOV Adj Close  USFR Adj Close  CMF Adj Close  \\\n",
       "Date                                                                       \n",
       "2016-06-06            NaN             NaN             NaN            NaN   \n",
       "2016-06-07       0.003712        0.003332        0.000000       0.000665   \n",
       "2016-06-08       0.003874        0.003120        0.000000       0.001908   \n",
       "2016-06-09      -0.003169       -0.002213        0.005613       0.001325   \n",
       "2016-06-10      -0.002648       -0.004239        0.000000       0.002315   \n",
       "\n",
       "            ITM Adj Close  FMB Adj Close  SPIP Adj Close  PZA Adj Close  \\\n",
       "Date                                                                      \n",
       "2016-06-06            NaN            NaN             NaN            NaN   \n",
       "2016-06-07       0.002048       0.002992        0.003484       0.001148   \n",
       "2016-06-08       0.000000      -0.000411        0.001737       0.001147   \n",
       "2016-06-09       0.001227       0.001530        0.001214       0.001908   \n",
       "2016-06-10       0.002449       0.000559        0.000173       0.002286   \n",
       "\n",
       "            BAB Adj Close  SPTI Adj Close  ...  VMBS Adj Close  \\\n",
       "Date                                       ...                   \n",
       "2016-06-06            NaN             NaN  ...             NaN   \n",
       "2016-06-07       0.001617        0.001638  ...       -0.000373   \n",
       "2016-06-08      -0.000647        0.000328  ...        0.001305   \n",
       "2016-06-09       0.002907        0.000654  ...       -0.002425   \n",
       "2016-06-10       0.005146        0.001307  ...        0.001679   \n",
       "\n",
       "            SCHP Adj Close  IEF Adj Close  SHV Adj Close  TLT Adj Close  \\\n",
       "Date                                                                      \n",
       "2016-06-06             NaN            NaN            NaN            NaN   \n",
       "2016-06-07        0.003403       0.001446       0.000091       0.002417   \n",
       "2016-06-08        0.002143       0.001173       0.000000       0.005342   \n",
       "2016-06-09        0.000535       0.001532       0.000000       0.006432   \n",
       "2016-06-10        0.000178       0.003506       0.000090       0.004835   \n",
       "\n",
       "            EMB Adj Close  SHY Adj Close  MUB Adj Close  MBB Adj Close  \\\n",
       "Date                                                                     \n",
       "2016-06-06            NaN            NaN            NaN            NaN   \n",
       "2016-06-07       0.001603       0.000235       0.000623       0.000365   \n",
       "2016-06-08       0.005236       0.000235       0.001066      -0.000365   \n",
       "2016-06-09      -0.001240       0.000235       0.001686       0.001187   \n",
       "2016-06-10      -0.003818       0.000588       0.001684       0.000182   \n",
       "\n",
       "            TIP Adj Close  \n",
       "Date                       \n",
       "2016-06-06            NaN  \n",
       "2016-06-07       0.002687  \n",
       "2016-06-08       0.002335  \n",
       "2016-06-09       0.000345  \n",
       "2016-06-10       0.000000  \n",
       "\n",
       "[5 rows x 36 columns]"
      ]
     },
     "execution_count": 20,
     "metadata": {},
     "output_type": "execute_result"
    }
   ],
   "source": [
    "log_return.head()"
   ]
  },
  {
   "cell_type": "code",
   "execution_count": 21,
   "id": "martial-float",
   "metadata": {},
   "outputs": [
    {
     "data": {
      "text/plain": [
       "36"
      ]
     },
     "execution_count": 21,
     "metadata": {},
     "output_type": "execute_result"
    }
   ],
   "source": [
    "len(log_return.columns)"
   ]
  },
  {
   "cell_type": "code",
   "execution_count": 22,
   "id": "animated-implement",
   "metadata": {},
   "outputs": [],
   "source": [
    "test_tup = (0,1)\n",
    "bounds = ((test_tup,) * len(log_return.columns))"
   ]
  },
  {
   "cell_type": "code",
   "execution_count": 25,
   "id": "central-exposure",
   "metadata": {},
   "outputs": [],
   "source": [
    "# The minimizing algorithm"
   ]
  },
  {
   "cell_type": "code",
   "execution_count": 26,
   "id": "filled-azerbaijan",
   "metadata": {},
   "outputs": [],
   "source": [
    "from scipy.optimize import minimize"
   ]
  },
  {
   "cell_type": "code",
   "execution_count": 27,
   "id": "tropical-surveillance",
   "metadata": {},
   "outputs": [],
   "source": [
    "def get_ret_vol_sr(weights): \n",
    "    weights = np.array(weights)\n",
    "    ret = np.sum(log_return.mean() * weights) * 252\n",
    "    vol = np.sqrt(np.dot(weights.T,np.dot(log_return.cov()*252,weights)))\n",
    "    sr = ret/vol \n",
    "    return np.array([ret,vol,sr])"
   ]
  },
  {
   "cell_type": "code",
   "execution_count": 28,
   "id": "documented-technician",
   "metadata": {},
   "outputs": [],
   "source": [
    "def neg_sharpe(weights): \n",
    "    return get_ret_vol_sr(weights)[2] * -1\n",
    "\n",
    "# check allocation sums to 1\n",
    "def check_sum(weights): \n",
    "    return np.sum(weights) - 1\n",
    "\n",
    "# create constraint variable\n",
    "cons = ({'type':'eq','fun':check_sum})"
   ]
  },
  {
   "cell_type": "code",
   "execution_count": 33,
   "id": "binding-authority",
   "metadata": {},
   "outputs": [
    {
     "data": {
      "text/plain": [
       "[0.027777777777777776,\n",
       " 0.027777777777777776,\n",
       " 0.027777777777777776,\n",
       " 0.027777777777777776,\n",
       " 0.027777777777777776,\n",
       " 0.027777777777777776,\n",
       " 0.027777777777777776,\n",
       " 0.027777777777777776,\n",
       " 0.027777777777777776,\n",
       " 0.027777777777777776,\n",
       " 0.027777777777777776,\n",
       " 0.027777777777777776,\n",
       " 0.027777777777777776,\n",
       " 0.027777777777777776,\n",
       " 0.027777777777777776,\n",
       " 0.027777777777777776,\n",
       " 0.027777777777777776,\n",
       " 0.027777777777777776,\n",
       " 0.027777777777777776,\n",
       " 0.027777777777777776,\n",
       " 0.027777777777777776,\n",
       " 0.027777777777777776,\n",
       " 0.027777777777777776,\n",
       " 0.027777777777777776,\n",
       " 0.027777777777777776,\n",
       " 0.027777777777777776,\n",
       " 0.027777777777777776,\n",
       " 0.027777777777777776,\n",
       " 0.027777777777777776,\n",
       " 0.027777777777777776,\n",
       " 0.027777777777777776,\n",
       " 0.027777777777777776,\n",
       " 0.027777777777777776,\n",
       " 0.027777777777777776,\n",
       " 0.027777777777777776,\n",
       " 0.027777777777777776]"
      ]
     },
     "execution_count": 33,
     "metadata": {},
     "output_type": "execute_result"
    }
   ],
   "source": [
    "init_guess = [1/len(log_return.columns)] * len(log_return.columns)\n",
    "\n",
    "init_guess"
   ]
  },
  {
   "cell_type": "code",
   "execution_count": 34,
   "id": "cathedral-shareware",
   "metadata": {},
   "outputs": [
    {
     "data": {
      "text/plain": [
       "array([0.00000000e+00, 0.00000000e+00, 3.73255049e-02, 0.00000000e+00,\n",
       "       3.30717060e-11, 3.02922595e-03, 0.00000000e+00, 1.05579261e-11,\n",
       "       2.90213086e-11, 2.36315840e-13, 5.11019776e-04, 0.00000000e+00,\n",
       "       0.00000000e+00, 1.27779002e-02, 2.01341993e-11, 2.78631807e-12,\n",
       "       0.00000000e+00, 2.49672570e-11, 1.45375978e-11, 0.00000000e+00,\n",
       "       3.14912927e-11, 2.89865794e-11, 1.44503169e-03, 2.46274917e-11,\n",
       "       0.00000000e+00, 4.64076744e-01, 2.23218693e-11, 0.00000000e+00,\n",
       "       0.00000000e+00, 4.80834574e-01, 0.00000000e+00, 1.54147920e-11,\n",
       "       2.84009593e-11, 2.02266731e-11, 3.73730368e-12, 0.00000000e+00])"
      ]
     },
     "execution_count": 34,
     "metadata": {},
     "output_type": "execute_result"
    }
   ],
   "source": [
    "opt_results = minimize(neg_sharpe, init_guess,bounds = bounds, method='SLSQP', constraints=cons)\n",
    "\n",
    "opt_results.x"
   ]
  },
  {
   "cell_type": "code",
   "execution_count": 32,
   "id": "derived-courage",
   "metadata": {},
   "outputs": [
    {
     "data": {
      "text/plain": [
       "array([1.09645888e-02, 1.82070576e-03, 6.02216408e+00])"
      ]
     },
     "execution_count": 32,
     "metadata": {},
     "output_type": "execute_result"
    }
   ],
   "source": [
    "get_ret_vol_sr(opt_results.x)"
   ]
  },
  {
   "cell_type": "code",
   "execution_count": null,
   "id": "attractive-formation",
   "metadata": {},
   "outputs": [],
   "source": [
    "    "
   ]
  }
 ],
 "metadata": {
  "kernelspec": {
   "display_name": "Python 3",
   "language": "python",
   "name": "python3"
  },
  "language_info": {
   "codemirror_mode": {
    "name": "ipython",
    "version": 3
   },
   "file_extension": ".py",
   "mimetype": "text/x-python",
   "name": "python",
   "nbconvert_exporter": "python",
   "pygments_lexer": "ipython3",
   "version": "3.7.10"
  }
 },
 "nbformat": 4,
 "nbformat_minor": 5
}
